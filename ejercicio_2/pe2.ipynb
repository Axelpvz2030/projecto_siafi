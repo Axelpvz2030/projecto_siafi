{
  "nbformat": 4,
  "nbformat_minor": 0,
  "metadata": {
    "colab": {
      "provenance": []
    },
    "kernelspec": {
      "name": "python3",
      "display_name": "Python 3"
    },
    "language_info": {
      "name": "python"
    }
  },
  "cells": [
    {
      "cell_type": "code",
      "execution_count": 2,
      "metadata": {
        "colab": {
          "base_uri": "https://localhost:8080/"
        },
        "id": "SWcSc23uANnZ",
        "outputId": "d25eeb82-8622-4065-ce6c-92a44564104b"
      },
      "outputs": [
        {
          "output_type": "stream",
          "name": "stdout",
          "text": [
            "<class 'pandas.core.frame.DataFrame'>\n",
            "RangeIndex: 97 entries, 0 to 96\n",
            "Data columns (total 2 columns):\n",
            " #   Column  Non-Null Count  Dtype \n",
            "---  ------  --------------  ----- \n",
            " 0   frase   97 non-null     object\n",
            " 1   emoji   97 non-null     object\n",
            "dtypes: object(2)\n",
            "memory usage: 1.6+ KB\n"
          ]
        }
      ],
      "source": [
        "import pandas as pd\n",
        "from sklearn.feature_extraction.text import TfidfVectorizer\n",
        "from sklearn.model_selection import train_test_split\n",
        "from sklearn.neighbors import KNeighborsClassifier\n",
        "from sklearn.metrics import classification_report\n",
        "\n",
        "\n",
        "data = pd.read_csv(\"emojis.csv\")\n",
        "data.info()\n",
        "\n",
        "\n",
        "\n"
      ]
    },
    {
      "cell_type": "markdown",
      "source": [
        "abrimos el dataset, que contiene una frase y un emoji asosiaco a cada frase"
      ],
      "metadata": {
        "id": "i0UJz2EnkWPq"
      }
    },
    {
      "cell_type": "code",
      "source": [
        "X = data[\"frase\"]\n",
        "y = data[\"emoji\"]\n",
        "\n",
        "\n",
        "X_train, X_test, y_train, y_test = train_test_split(X, y, test_size=0.3, random_state=42)\n",
        "\n",
        "\n",
        "vectorizer = TfidfVectorizer()\n",
        "X_train_tfidf = vectorizer.fit_transform(X_train)\n",
        "X_test_tfidf = vectorizer.transform(X_test)\n",
        "\n",
        "\n",
        "knn = KNeighborsClassifier(n_neighbors=3)\n",
        "knn.fit(X_train_tfidf, y_train)\n",
        "\n",
        "\n",
        "y_pred = knn.predict(X_test_tfidf)\n",
        "\n",
        "\n"
      ],
      "metadata": {
        "id": "Z03Agc2OkevI"
      },
      "execution_count": 3,
      "outputs": []
    },
    {
      "cell_type": "markdown",
      "source": [
        "Entrenamos el modelo usando knn, usando tFidVectorizer para convertir las frases en vectores de datos que se puedan analizar, y entrenams el modelo"
      ],
      "metadata": {
        "id": "Ds2ju8MPkhZA"
      }
    },
    {
      "cell_type": "code",
      "source": [
        "for frase, emoji_real, emoji_predicho in zip(X_test, y_test, y_pred):\n",
        "    print(f\"Frase: {frase} - Emoji real: {emoji_real}- Emoji predicho: {emoji_predicho}\\n\")"
      ],
      "metadata": {
        "colab": {
          "base_uri": "https://localhost:8080/"
        },
        "id": "qKK12mKfkvbw",
        "outputId": "e140507f-cd7c-403b-fdc0-a0fb3de7e9a3"
      },
      "execution_count": 4,
      "outputs": [
        {
          "output_type": "stream",
          "name": "stdout",
          "text": [
            "Frase: Es una broma - Emoji real: 😂- Emoji predicho: 💡\n",
            "\n",
            "Frase: Es hora de cantar - Emoji real: 🎤- Emoji predicho: 🗺️\n",
            "\n",
            "Frase: Es un juguete - Emoji real: 🧸- Emoji predicho: 🌈\n",
            "\n",
            "Frase: Es otoño - Emoji real: 🍂- Emoji predicho: 👻\n",
            "\n",
            "Frase: Es ciencia ficción - Emoji real: 👽- Emoji predicho: 👻\n",
            "\n",
            "Frase: Es un regalo - Emoji real: 🎁- Emoji predicho: 🌈\n",
            "\n",
            "Frase: Es Navidad - Emoji real: 🎅- Emoji predicho: 🎄\n",
            "\n",
            "Frase: Es mi equipo favorito - Emoji real: ⚽- Emoji predicho: 🍕\n",
            "\n",
            "Frase: Vamos de viaje - Emoji real: ✈️- Emoji predicho: 🗺️\n",
            "\n",
            "Frase: Hola, ¿cómo estás? - Emoji real: 😊- Emoji predicho: 🌅\n",
            "\n",
            "Frase: Es hora del té - Emoji real: 🍵- Emoji predicho: 📱\n",
            "\n",
            "Frase: Es una señal - Emoji real: 🚦- Emoji predicho: 💡\n",
            "\n",
            "Frase: Es hora del desayuno - Emoji real: 🥞- Emoji predicho: 📱\n",
            "\n",
            "Frase: Es mi mascota - Emoji real: 🐕- Emoji predicho: 🍕\n",
            "\n",
            "Frase: Estoy de vacaciones - Emoji real: 🌴- Emoji predicho: 🗺️\n",
            "\n",
            "Frase: Tengo hambre - Emoji real: 🍔- Emoji predicho: 🌊\n",
            "\n",
            "Frase: ¡Qué emoción! - Emoji real: 😁- Emoji predicho: 🌅\n",
            "\n",
            "Frase: Hace frío - Emoji real: ❄️- Emoji predicho: 🌊\n",
            "\n",
            "Frase: Es el futuro - Emoji real: 🌌- Emoji predicho: 🌅\n",
            "\n",
            "Frase: Es amor - Emoji real: 💕- Emoji predicho: 👻\n",
            "\n",
            "Frase: Es increíble - Emoji real: 🤩- Emoji predicho: 👻\n",
            "\n",
            "Frase: Vamos al museo - Emoji real: 🏛️- Emoji predicho: 🎬\n",
            "\n",
            "Frase: Es un sueño - Emoji real: 🌙- Emoji predicho: 🌈\n",
            "\n",
            "Frase: Estoy trabajando - Emoji real: 🖥️- Emoji predicho: 🏃\n",
            "\n",
            "Frase: Estoy jugando videojuegos - Emoji real: 🎮- Emoji predicho: 🏃\n",
            "\n",
            "Frase: Amo el sushi - Emoji real: 🍣- Emoji predicho: 🌅\n",
            "\n",
            "Frase: ¡Qué sorpresa! - Emoji real: 🎉- Emoji predicho: 🌅\n",
            "\n",
            "Frase: Estoy estudiando historia - Emoji real: 📜- Emoji predicho: ➕\n",
            "\n",
            "Frase: Te quiero - Emoji real: ❤️- Emoji predicho: 🌊\n",
            "\n",
            "Frase: Estoy escuchando - Emoji real: 👂- Emoji predicho: 🏃\n",
            "\n"
          ]
        }
      ]
    },
    {
      "cell_type": "markdown",
      "source": [
        "Visualizamos los emojis predichos y los reales para cada frase, en este caso ninguna prediccion fue correcta, lo que se puede asociar mayromente al pequeño tamaño de la data base creada (100 frases)"
      ],
      "metadata": {
        "id": "ZVc1-rz8ky6H"
      }
    }
  ]
}